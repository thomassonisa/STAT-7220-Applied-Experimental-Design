{
  "cells": [
    {
      "cell_type": "markdown",
      "id": "c3561871",
      "metadata": {
        "id": "c3561871"
      },
      "source": [
        "# Assumption Checking\n",
        "# Evaluating Reliability of Inferential ANOVA Methods\n",
        "## Dr Austin R Brown\n",
        "## School of Data Science and Analytics\n",
        "### Kennesaw State University"
      ]
    },
    {
      "cell_type": "code",
      "execution_count": 2,
      "id": "e791d2fe",
      "metadata": {
        "colab": {
          "base_uri": "https://localhost:8080/"
        },
        "id": "e791d2fe",
        "outputId": "fbce8db1-764c-4c01-8907-042a2abfb9aa"
      },
      "outputs": [
        {
          "output_type": "stream",
          "name": "stdout",
          "text": [
            "📥 Cloning repo from https://github.com/thomassonisa/STAT-7220-Applied-Experimental-Design.git...\n",
            "📂 Changed directory to: /content/STAT-7220-Applied-Experimental-Design\n",
            "🔗 Connected to fork at: https://github.com/thomassonisa/STAT-7220-Applied-Experimental-Design.git\n",
            "📂 Changed directory to: /content/STAT-7220-Applied-Experimental-Design/Comparative Experiments\n"
          ]
        }
      ],
      "source": [
        "# === COURSE REPO SETUP === #\n",
        "\n",
        "# 1. ENTER your GitHub username (the one that owns your fork)\n",
        "github_username = \"thomassonisa\"\n",
        "\n",
        "# 2. Name of the repo (don't change unless your fork name is different)\n",
        "repo_name = \"STAT-7220-Applied-Experimental-Design\"\n",
        "\n",
        "# 3. Build the full repo URL for cloning\n",
        "repo_url = f\"https://github.com/{github_username}/{repo_name}.git\"\n",
        "\n",
        "import os\n",
        "\n",
        "# --- Detect if we're already in a repo ---\n",
        "cwd = os.getcwd()\n",
        "if cwd.endswith(repo_name):\n",
        "    print(f\"✅ Already inside repo folder: {cwd}\")\n",
        "else:\n",
        "    # --- If the repo folder exists, check if it's nested ---\n",
        "    if os.path.exists(repo_name):\n",
        "        print(f\"⚠️ Found existing folder '{repo_name}'. Skipping clone to avoid nesting.\")\n",
        "    else:\n",
        "        print(f\"📥 Cloning repo from {repo_url}...\")\n",
        "        os.system(f\"git clone {repo_url}\")\n",
        "\n",
        "    # --- Change to repo directory ---\n",
        "    if os.path.exists(repo_name):\n",
        "        os.chdir(repo_name)\n",
        "        print(f\"📂 Changed directory to: {os.getcwd()}\")\n",
        "    else:\n",
        "        print(\"❌ ERROR: Repo folder not found. Please check your GitHub username.\")\n",
        "\n",
        "# --- Check if this is the instructor's repo instead of student's fork ---\n",
        "# This command needs to be run from within the repository directory\n",
        "remote_url = os.popen(\"git config --get remote.origin.url\").read().strip()\n",
        "\n",
        "if \"abrown9008\" in remote_url:\n",
        "   print(\"⚠️ WARNING: You are working in the instructor's repo, not your fork!\")\n",
        "   print(\"💡 Please fork the repo to your own account and update `github_username` above.\")\n",
        "else:\n",
        "    print(f\"🔗 Connected to fork at: {remote_url}\")\n",
        "\n",
        "# Set Today's Directory #\n",
        "\n",
        "today_dir = \"Comparative Experiments\"\n",
        "os.chdir(today_dir)\n",
        "print(f\"📂 Changed directory to: {os.getcwd()}\")"
      ]
    },
    {
      "cell_type": "markdown",
      "id": "de15253a",
      "metadata": {
        "id": "de15253a"
      },
      "source": [
        "### Introduction\n",
        "\n",
        "- So far, we have discussed how to perform comparative experiments using a completely randomized design (CRD).\n",
        "\n",
        "- The specific inferential methods we have used are the independent means $t$-test and the one-way ANOVA method.\n",
        "\n",
        "- When we first introduced these methods, we had said there are a few assumptions which need to be reasonably met in order for us to feel confident in the results we draw from the $F$ and Post-Hoc tests, respecitvely.\n",
        "\n",
        "- Because an independent means $t$-test is a special case of the one-way ANOVA, the assumptions for the $t$-test are the same as the one-way ANOVA.\n",
        "\n",
        "#### One-Way ANOVA Assumptions\n",
        "\n",
        "- Specifically, the assumptions for the one-way ANOVA are:\n",
        "\n",
        "    1.  The populations from which the samples are drawn are normally distributed.\n",
        "    2.  The populations from which the samples are drawn have equal variances.\n",
        "    3.  The observations are independent of one another.\n",
        "\n",
        "##### Assumptions for One-Way ANOVA: Normality\n",
        "\n",
        "- The first assumption is that the populations from which the samples are drawn are normally distributed.\n",
        "\n",
        "- Recall that:\n",
        "\n",
        "$$ \\varepsilon_{ij} \\sim N(0, \\sigma^2) $$\n",
        "\n",
        "- This means that the residuals are normally distributed with a mean of 0 and a constant variance term, $\\sigma^2$.\n",
        "\n",
        "- This tells us that we can check the normality assumption by examining the residuals.\n",
        "\n",
        "- Generally when performing any assumption test, I recommend using a **graphical** method in addition to a formal **inferential** test.\n",
        "\n",
        "- The most common graphical method is the *Q-Q plot*.\n",
        "\n",
        "###### The Q-Q Plot\n",
        "\n",
        "- The Q-Q Plot is a graphical method for comparing the theoretical and empirical probability distributions of the residuals by plotting their quantiles against each other in a scatterplot format.\n",
        "\n",
        "- If the residuals are normally distributed, the points on the Q-Q plot will fall along a straight, positively sloped line.\n",
        "\n",
        "- If the residuals are not normally distributed, the points will deviate from the straight line.\n",
        "\n",
        "- Let's use the Egg Rating example data to build a Q-Q plot."
      ]
    },
    {
      "cell_type": "code",
      "execution_count": null,
      "id": "bf57034a",
      "metadata": {
        "id": "bf57034a",
        "outputId": "3ade8533-2f79-4d94-80f1-515936fb180f"
      },
      "outputs": [
        {
          "name": "stdout",
          "output_type": "stream",
          "text": [
            "<class 'pandas.core.frame.DataFrame'>\n",
            "RangeIndex: 90 entries, 0 to 89\n",
            "Data columns (total 2 columns):\n",
            " #   Column     Non-Null Count  Dtype \n",
            "---  ------     --------------  ----- \n",
            " 0   Technique  90 non-null     object\n",
            " 1   Rating     90 non-null     int64 \n",
            "dtypes: int64(1), object(1)\n",
            "memory usage: 1.5+ KB\n",
            "None\n"
          ]
        },
        {
          "data": {
            "image/png": "[encoded data removed]",
            "text/plain": [
              "<Figure size 800x800 with 1 Axes>"
            ]
          },
          "metadata": {},
          "output_type": "display_data"
        }
      ],
      "source": [
        "## Import Libraries ##\n",
        "import pandas as pd\n",
        "import numpy as np\n",
        "import seaborn as sns\n",
        "import matplotlib.pyplot as plt\n",
        "import statsmodels.api as sm\n",
        "from statsmodels.formula.api import ols\n",
        "\n",
        "## Install scipy package ##\n",
        "\n",
        "#%pip install scipy ##\n",
        "\n",
        "## Import scipy ##\n",
        "\n",
        "import scipy.stats as stats\n",
        "\n",
        "## Import Egg Rating Data ##\n",
        "\n",
        "egg_data = pd.read_excel(\"Egg Rating.xlsx\")\n",
        "\n",
        "## Data Integrity Check ##\n",
        "\n",
        "print(egg_data.info())\n",
        "\n",
        "## Fit One Way ANOVA Model ##\n",
        "\n",
        "egg_mod = ols(\"Rating~Technique\",data=egg_data).fit()\n",
        "\n",
        "## Extract Model Residuals ##\n",
        "\n",
        "residuals = egg_mod.resid\n",
        "\n",
        "## Generate QQ plot ##\n",
        "\n",
        "fig = plt.figure(figsize= (10, 10))\n",
        "ax = fig.add_subplot(111)\n",
        "\n",
        "normality_plot, stat = stats.probplot(residuals, plot= plt, rvalue= True)\n",
        "ax.set_title(\"Probability plot of model residual's\", fontsize= 20)\n",
        "ax.set\n",
        "\n",
        "plt.show()\n"
      ]
    },
    {
      "cell_type": "markdown",
      "id": "24f43232",
      "metadata": {
        "id": "24f43232"
      },
      "source": [
        "- Let's breakdown the code and then we'll discuss how to interpret this result:\n",
        "\n",
        "    - `plt.figure(figsize=(10,10))` creates a new figure window for plotting, similar to when how we specified the boxplot using `seaborn`. `figsize=(10,10)` sets the width and height of the figure in inches.\n",
        "    - `fig.add_subplot(111)` adds a signle subplot to the figure. The `111` means, 1 row, 1 columns ,and this is the 1st subplot.\n",
        "        - This is useful when you want to organize multiple plots in a grid layout (similar to `par` in R).\n",
        "    - `stats.probplot(residuls,plot=plt,rvalue=True)` generates a QQ plot.\n",
        "        - `plot=plt` tells Python to use `Matplotlib` for plotting\n",
        "        - `rvalue=True` tells Python to include the $R^2$ between the theoretical and empirical quantiles.\n",
        "    - `ax.set_title` and `plt.show` do what it sounds like they do\n",
        "\n",
        "- As we can see, most of the points fall near the line bisecting the graph.\n",
        "\n",
        "- While we do have some deviation, it doesn't seem to be substantial nor a large number of points.\n",
        "\n",
        "- Thus, I would conclude that the Q-Q plot gives us evidence in support of the normality assumption.\n",
        "    -   Note, this can be subjective!\n",
        "\n",
        "![Example of a Q-Q Plot](https://github.com/thomassonisa/STAT-7220-Applied-Experimental-Design/blob/main/Comparative%20Experiments/PP%20Plot.jpg?raw=1)\n",
        "\n",
        "###### Inferential Tests of Normality\n",
        "\n",
        "- Now, let's perform a formal test of normality of the residuals.\n",
        "\n",
        "- There exist many, many tests of normality (e.g., Shapiro-Wilk, Kolmogorov-Smirnov, Anderson-Darling, etc.), but each of them has the same statistical hypotheses:\n",
        "\n",
        "$$ H_0: \\text{The Normality Assumption is Met} $$\n",
        "\n",
        "$$ H_1: \\text{The Normality Assumption is Not Met} $$\n",
        "\n",
        "- One of my favorite tests is the Shaprio-Wilk Test, which we can perform using the `shapiro` function which is part of the `scipy` package in Python:"
      ]
    },
    {
      "cell_type": "code",
      "execution_count": null,
      "id": "81ca2716",
      "metadata": {
        "id": "81ca2716",
        "outputId": "1f075ca7-7263-4522-c929-9a71be638f26"
      },
      "outputs": [
        {
          "data": {
            "text/plain": [
              "ShapiroResult(statistic=np.float64(0.9763388856448503), pvalue=np.float64(0.09961610175575726))"
            ]
          },
          "execution_count": null,
          "metadata": {},
          "output_type": "execute_result"
        }
      ],
      "source": [
        "## Perform Shapiro-Wilk Test of Normality ##\n",
        "stats.shapiro(residuals)"
      ]
    },
    {
      "cell_type": "markdown",
      "id": "d57e371d",
      "metadata": {
        "id": "d57e371d"
      },
      "source": [
        "- Here we get both the test statistic ($W=0.98$) as well as its associated p-value ($p=0.0996$).\n",
        "\n",
        "- Since $p > \\alpha = 0.05$, this tells us the data more strongly support the **null** hypothesis, meaning that the assumption of normality is supported by the data.\n",
        "\n",
        "- This result, along with a relatively good looking Q-Q plot, means that we can feel confident that the normality assumption is reasonably supported by our data.\n",
        "\n",
        "##### Assumptions for One-Way ANOVA: Constant Variance\n",
        "\n",
        "###### Scatterplot of Standardized Residuals vs Fitted Values\n",
        "\n",
        "- To test the constant variance assumption graphically, I like to plot the predicted values for $y_{ij}$, which are just the group means, $\\bar{y}_{i.}$, versus the *standardized residuals* (more on those in just a second.)\n",
        "\n",
        "- This gives us a sort of boxplot whose width we can use as a rough estimate of variability.\n",
        "\n",
        "- This is reasonable considering the estimate of $\\sigma^2$, denoted $\\hat{\\sigma}^2$, is calculated by:\n",
        "\n",
        "$$ \\hat{\\sigma}^2 = \\frac{1}{n - t}\\sum_{i=1}^{t}\\sum_{j=1}^{r_t}\\varepsilon_{ij} = \\frac{1}{n - t}\\sum_{i=1}^{t}\\sum_{j=1}^{r_t}(y_{ij} - \\bar{y}_{i\\cdot})^2 $$\n",
        "\n",
        "- Now back to the standardized residuals, they are just that: the raw residuals, $y_{ij} - \\bar{y}_{i\\cdot}$, divided by the square root of $\\hat{\\sigma}^2$.\n",
        "\n",
        "- Since we assume the residuals follow a normal distribution, this standardization process converts the raw residuals to a standard normal scale.\n",
        "\n",
        "    - This is easier to interpret.\n",
        "\n",
        "- Let's see how we do generate this scatterplot in Python:"
      ]
    },
    {
      "cell_type": "code",
      "execution_count": null,
      "id": "d2b1cba5",
      "metadata": {
        "id": "d2b1cba5",
        "outputId": "13b8fc5e-b161-4049-a139-0c77a48994d4"
      },
      "outputs": [
        {
          "data": {
            "image/png": "[encoded data removed]",
            "text/plain": [
              "<Figure size 640x480 with 1 Axes>"
            ]
          },
          "metadata": {},
          "output_type": "display_data"
        }
      ],
      "source": [
        "## Obtain Standardized Residuals ##\n",
        "\n",
        "standardized_residuals = egg_mod.get_influence().resid_studentized_internal\n",
        "\n",
        "## Get the fitted values ##\n",
        "\n",
        "fitted_values = egg_mod.fittedvalues\n",
        "\n",
        "## Create the plot ##\n",
        "\n",
        "plt.figure(figsize=(8, 6))\n",
        "plt.scatter(fitted_values, standardized_residuals)\n",
        "plt.axhline(y=0, linestyle='dashed', color='red')\n",
        "plt.axhline(y=3, color='blue')\n",
        "plt.axhline(y=-3, color='blue')\n",
        "plt.xlabel(\"Predicted y's\")\n",
        "plt.ylabel(\"Standardized Residuals\")\n",
        "plt.title(\"Standardized Residuals vs. Fitted Values\")\n",
        "plt.style.use('classic')\n",
        "plt.show()\n"
      ]
    },
    {
      "cell_type": "markdown",
      "id": "6b7e8e38",
      "metadata": {
        "id": "6b7e8e38"
      },
      "source": [
        "- As we can see, for each group mean (shown by the vertical lines), the residuals are mostly centered around 0, which implies that the residual mean being approximately 0 seems reasonable.\n",
        "\n",
        "- Additionally, while the residuals are not exactly the same width, they are not drastically different either.\n",
        "\n",
        "- Thus, I would conclude that the constant variance assumption is reasonably supported by the data.\n",
        "    -   Again, the visual technique is somewhat subjective!!\n",
        "\n",
        "###### Inferential Tests of Constant Variance\n",
        "\n",
        "- Like tests of normality, there exist a few variations (no pun intended) of inferential tests for evaluating constant variance among model residuals.\n",
        "\n",
        "- However, many of them (such as the F-ratio test and Levene's Test), have specific model requirements that limit their use.\n",
        "\n",
        "- This is why I instead recommend using the **Bruesch-Pagan Test**, which is a more general test that can be used to evaluate the constant variance assumption on *any* linear model based on the normality assumption, including multiple linear regression.\n",
        "\n",
        "- Like the Shapiro-Wilk test, the B-P test has similar statistical hypotheses:\n",
        "\n",
        "$$ H_0: \\text{Variance is Constant} $$\n",
        "\n",
        "$$ H_1: \\text{Variance is Not Constant} $$\n",
        "\n",
        "- Let's see how we can use the `het_breuschpagan` function from `statsmodels` to help us perform the test in Python:"
      ]
    },
    {
      "cell_type": "code",
      "execution_count": null,
      "id": "4c51ba88",
      "metadata": {
        "id": "4c51ba88",
        "outputId": "f5ddbf5e-fb02-4cde-abc0-8f28a3c375b8"
      },
      "outputs": [
        {
          "name": "stdout",
          "output_type": "stream",
          "text": [
            "F-statistic: 3.2023449996911033\n",
            "F p-value: 0.045504019517331455\n"
          ]
        }
      ],
      "source": [
        "## Import necessary function: ##\n",
        "\n",
        "from statsmodels.stats.diagnostic import het_breuschpagan\n",
        "\n",
        "## Run B-P Test ##\n",
        "\n",
        "bp_test = het_breuschpagan(egg_mod.resid,egg_mod.model.exog)\n",
        "\n",
        "## Extract F-statistic ##\n",
        "\n",
        "f_statistic = bp_test[2]\n",
        "\n",
        "## Extract its P-Value ##\n",
        "\n",
        "f_p_value = bp_test[3]\n",
        "\n",
        "print(f\"F-statistic: {f_statistic}\")\n",
        "print(f\"F p-value: {f_p_value}\")\n",
        "\n"
      ]
    },
    {
      "cell_type": "markdown",
      "id": "caf91508",
      "metadata": {
        "id": "caf91508"
      },
      "source": [
        "- While the p-value associated with the B-P test is technically below our typically used threshold of 0.05 (which would mean the data more strongly support the alternative hypothesis of non-constant variance), I tend to be more flexible with the assumptions unless they are severely violated.\n",
        "\n",
        "    - This is largely in part due to the principle of *robustness*.\n",
        "    - ANOVA methods are robust to minor violations of the assumptions.\n",
        "    - This means that for slight assumption violations, we can still feel confident in interpreting and using the results of the inferential tests.\n",
        "\n",
        "- Since our p-value is in the neighborhood of 0.05, and since the scatterplot of standardized residuals to fitted values looked reasonably good, I feel comfortable assuming the data support both our normality and constant variance assumption.\n",
        "\n",
        "##### Assumptions for One-Way ANOVA: Independence of Observations\n",
        "\n",
        "- The final assumption we have for One-Way ANOVA is that all of our observations are independent of one another.\n",
        "\n",
        "- While we do have a test for this (Durbin-Watson test), I tend to rely on the sampling technique as the measure of independence.\n",
        "\n",
        "- In the egg example, if we select our panel participants in a reasonably random manner and further use randomization to partition the participants into each of the cooking technique treatments, it is reasonable to assume that my assessment of an egg has nothing to do with your assessment of an egg.\n",
        "\n",
        "- If I were to ask people who were coming out of a mosque or synagogue to be part of an experiment where I was cooking eggs in bacon grease, this isn't random and thus I couldn't rely on the results.\n",
        "\n",
        "- In most laboratory science types of experiments (like the Dog Toy or Can Cooler example), independence of observations is generally pretty reasonable.\n",
        "\n",
        "- We have to be more mindful of our sampling technique when working with human participants to ensure that independence can be reasonably assumed.\n"
      ]
    }
  ],
  "metadata": {
    "language_info": {
      "name": "python"
    },
    "colab": {
      "provenance": []
    },
    "kernelspec": {
      "name": "python3",
      "display_name": "Python 3"
    }
  },
  "nbformat": 4,
  "nbformat_minor": 5
}